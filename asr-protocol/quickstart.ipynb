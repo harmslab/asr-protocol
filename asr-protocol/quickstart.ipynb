{
 "cells": [
  {
   "cell_type": "code",
   "execution_count": null,
   "metadata": {},
   "outputs": [],
   "source": [
    "import topiary\n",
    "import pandas as pd\n",
    "import numpy as np"
   ]
  },
  {
   "cell_type": "markdown",
   "metadata": {},
   "source": [
    "### Read BLAST XML and download sequences from NCBI\n",
    "\n",
    "Topiary generally starts with BLAST results downloaded from the NCBI as XML files. Topiary creates a dataframe from these files and automatically downloads all of the sequences from the NCBI. "
   ]
  },
  {
   "cell_type": "code",
   "execution_count": null,
   "metadata": {},
   "outputs": [],
   "source": [
    "xml_file = \"../data/tiny.xml\"\n",
    "f = open(xml_file)\n",
    "lines = f.readlines()\n",
    "f.close()\n",
    "\n",
    "print(\"NCBI BLAST XML file looks like:\\n\")\n",
    "print(\"\".join(lines[:5]))\n",
    "print(\"...\\n...\\n...\")\n",
    "print(\"\".join(lines[-5:]))"
   ]
  },
  {
   "cell_type": "code",
   "execution_count": null,
   "metadata": {},
   "outputs": [],
   "source": [
    "# Load the xml file into a dataframe\n",
    "df = topiary.ncbi_blast_xml_to_df(xml_file) # <- can specify a list of xml files to load multiple results\n",
    "df"
   ]
  },
  {
   "cell_type": "markdown",
   "metadata": {},
   "source": [
    "### Assign human readable nicknames to sequences\n",
    "Working with full NCBI names is a pain! Topiary can assign a nickname to each sequence based on user-specified patterns."
   ]
  },
  {
   "cell_type": "code",
   "execution_count": null,
   "metadata": {},
   "outputs": [],
   "source": [
    "alias_dictionary = {\"LY96\":(\"lymphocyte antigen 96\",\"MD2\",\"MD-2\"),\n",
    "                    \"LY86\":(\"lymphocyte antigen 86\",\"MD1\",\"MD-1\")}\n",
    "df = topiary.create_nicknames(df,aliases=alias_dictionary)\n",
    "df"
   ]
  },
  {
   "cell_type": "markdown",
   "metadata": {},
   "source": [
    "### Find unique species identifiers from Open Tree of Life\n",
    "\n",
    "In an ASR project, we usually want to compare our protein tree to a species tree. Using topiary, we can pull down unique taxonomic identifiers (OTTs) and a species tree from the Open Tree of Life database."
   ]
  },
  {
   "cell_type": "code",
   "execution_count": null,
   "metadata": {},
   "outputs": [],
   "source": [
    "df = topiary.get_ott_id(df,phylo_context=\"Animals\")\n",
    "df.loc[:,[\"nickname\",\"species\",\"ott\",\"keep\"]]"
   ]
  },
  {
   "cell_type": "code",
   "execution_count": null,
   "metadata": {},
   "outputs": [],
   "source": [
    "species_tree = topiary.get_species_tree(df)\n",
    "topiary.draw.species_tree(species_tree,width=100)"
   ]
  },
  {
   "cell_type": "markdown",
   "metadata": {},
   "source": [
    "### Check sequence identities using reverse BLAST"
   ]
  },
  {
   "cell_type": "code",
   "execution_count": null,
   "metadata": {},
   "outputs": [],
   "source": [
    "# Command to blast against NCBI nr database, selecting only human. To search\n",
    "# based on more one taxid, pass a list of taxid\n",
    "# df = topiary.reverse_blast(df,\n",
    "#                            call_dict={\"LY96\":[\"lymphocyte antigen 96\",\"esop1\"],\n",
    "#                                       \"LY86\":\"lymphocyte antigen 86\"},\n",
    "#                            ncbi_rev_blast_db=\"nr\",taxid=9606)\n",
    "\n",
    "# Reverse blast against a local database\n",
    "df = topiary.reverse_blast(df,\n",
    "                           call_dict={\"LY96\":[\"lymphocyte antigen 96\",\"esop1\"],\n",
    "                                      \"LY86\":[\"lymphocyte antigen 86\"]},\n",
    "                           local_rev_blast_db=\"GRCh38\") \n",
    "\n",
    "df.loc[:,[\"nickname\",\"species\",\"reverse_found_paralog\",\"reverse_paralog\",\"keep\"]]"
   ]
  },
  {
   "cell_type": "markdown",
   "metadata": {
    "tags": []
   },
   "source": [
    "### Lower redundancy of sequences"
   ]
  },
  {
   "cell_type": "code",
   "execution_count": null,
   "metadata": {},
   "outputs": [],
   "source": [
    "# will preferentially keep key species when lowering redundancy\n",
    "key_species = [\"Homo sapiens\",\"Monodelphis domestica\"] \n",
    "df = topiary.remove_redundancy(df,cutoff=0.85,key_species=key_species)\n",
    "\n",
    "df.loc[:,[\"nickname\",\"species\",\"keep\"]]"
   ]
  },
  {
   "cell_type": "markdown",
   "metadata": {
    "tags": []
   },
   "source": [
    "### Align the sequences using MUSCLE"
   ]
  },
  {
   "cell_type": "code",
   "execution_count": null,
   "metadata": {},
   "outputs": [],
   "source": [
    "df = topiary.run_muscle(df)\n",
    "df.loc[:,[\"nickname\",\"species\",\"keep\",\"name\",\"alignment\"]]"
   ]
  },
  {
   "cell_type": "markdown",
   "metadata": {},
   "source": [
    "### Manually edit alignment, then load back into dataframe\n",
    "\n",
    "<h4>We <span style=\"color:red\">strongly</span> recommend visually inspecting and editing the alignment.</h4> \n",
    "\n",
    "To do so, you can load the fasta file written out by muscle into an alignment editor like [AliView](https://ormbunkar.se/aliview/). Once you've done this and saved out a fasta file with the edited alignment, you can load this directly into the topiary dataframe. "
   ]
  },
  {
   "cell_type": "code",
   "execution_count": null,
   "metadata": {
    "scrolled": true
   },
   "outputs": [],
   "source": [
    "# Write the alignment into a fasta file\n",
    "topiary.write_fasta(df,\"raw-alignment.fasta\",seq_column=\"alignment\")"
   ]
  },
  {
   "cell_type": "markdown",
   "metadata": {},
   "source": [
    "<h4><span style=\"color:black\">EDIT YOUR ALIGNMENT AND SAVE OUT A NEW FASTA FILE</span></h4>\n",
    "\n",
    "In the cell below, change `manually_edited_fasta_file_name` to be the name of your saved file."
   ]
  },
  {
   "cell_type": "code",
   "execution_count": null,
   "metadata": {
    "scrolled": true
   },
   "outputs": [],
   "source": [
    "manually_edited_fasta_file_name = \"raw-alignment.fasta\" # <- change this filename\n",
    "\n",
    "df = topiary.read_fasta_into(df,manually_edited_fasta_file_name)\n",
    "\n",
    "df.loc[:,[\"nickname\",\"species\",\"keep\",\"name\",\"alignment\"]]"
   ]
  },
  {
   "cell_type": "code",
   "execution_count": null,
   "metadata": {},
   "outputs": [],
   "source": [
    "#[\"JTT\",\"LG\",\"WAG\",\"LG4M\",\"LG4X\",\"PROTGTR\"]\n",
    "topiary.find_best_model(df,\n",
    "                        model_matrices=[\"JTT\",\"LG\"],\n",
    "                        model_rates=[\"\"],\n",
    "                        model_freqs=[\"\"],\n",
    "                        model_invariant=[\"\"],\n",
    "                        output=\"find-model\",\n",
    "                        overwrite=True)"
   ]
  },
  {
   "cell_type": "code",
   "execution_count": null,
   "metadata": {
    "scrolled": true,
    "tags": []
   },
   "outputs": [],
   "source": [
    "topiary.generate_ml_tree(previous_dir=\"find-model\",\n",
    "                         output=\"ml-tree\",\n",
    "                         overwrite=True,bootstrap=False)"
   ]
  },
  {
   "cell_type": "code",
   "execution_count": null,
   "metadata": {},
   "outputs": [],
   "source": [
    "topiary.reconcile(previous_dir=\"ml-tree\",\n",
    "                  output=\"reconciled\",\n",
    "                  overwrite=True)"
   ]
  },
  {
   "cell_type": "code",
   "execution_count": null,
   "metadata": {},
   "outputs": [],
   "source": [
    "topiary.generate_ancestors(previous_dir=\"reconciled\",\n",
    "                           output=\"ancestors\",\n",
    "                           overwrite=True)"
   ]
  },
  {
   "cell_type": "code",
   "execution_count": null,
   "metadata": {},
   "outputs": [],
   "source": [
    "topiary.draw.ancestor_tree(\"ancestors/\") "
   ]
  },
  {
   "cell_type": "code",
   "execution_count": null,
   "metadata": {},
   "outputs": [],
   "source": [
    "topiary.draw.tree(\"ml-tree\")"
   ]
  },
  {
   "cell_type": "code",
   "execution_count": null,
   "metadata": {},
   "outputs": [],
   "source": [
    "topiary.draw.tree(\"reconciled/\")"
   ]
  },
  {
   "cell_type": "code",
   "execution_count": null,
   "metadata": {},
   "outputs": [],
   "source": [
    "topiary.draw.tree(\"ancestors/\")"
   ]
  },
  {
   "cell_type": "code",
   "execution_count": null,
   "metadata": {},
   "outputs": [],
   "source": [
    "topiary.draw.tree(\"find-model/\")"
   ]
  },
  {
   "cell_type": "code",
   "execution_count": null,
   "metadata": {},
   "outputs": [],
   "source": []
  }
 ],
 "metadata": {
  "kernelspec": {
   "display_name": "Python 3",
   "language": "python",
   "name": "python3"
  },
  "language_info": {
   "codemirror_mode": {
    "name": "ipython",
    "version": 3
   },
   "file_extension": ".py",
   "mimetype": "text/x-python",
   "name": "python",
   "nbconvert_exporter": "python",
   "pygments_lexer": "ipython3",
   "version": "3.9.12"
  }
 },
 "nbformat": 4,
 "nbformat_minor": 4
}
